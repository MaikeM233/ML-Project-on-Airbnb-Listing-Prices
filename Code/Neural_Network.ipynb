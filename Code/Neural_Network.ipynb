{
 "cells": [
  {
   "cell_type": "code",
   "execution_count": 1,
   "metadata": {},
   "outputs": [],
   "source": [
    "import numpy as np\n",
    "import pandas as pd"
   ]
  },
  {
   "cell_type": "code",
   "execution_count": 2,
   "metadata": {},
   "outputs": [],
   "source": [
    "import warnings\n",
    "warnings.simplefilter('ignore')"
   ]
  },
  {
   "cell_type": "code",
   "execution_count": 12,
   "metadata": {},
   "outputs": [],
   "source": [
    "from sklearn.model_selection import train_test_split\n",
    "# x_train,x_test,y_train,y_test = train_test_split(df_processed.loc[:,(df_processed.columns!=\"price\")&(df_processed.columns!=\"id\")&(df_processed.columns!=\"description\")],df_processed[[\"id\",\"price\"]],test_size=0.2,random_state=123)\n",
    "# y_test_copy = y_test.copy()\n",
    "# y_train_copy = y_train.copy()\n",
    "\n",
    "# x_train,x_test,y_train,y_test = train_test_split(df_processed.loc[:,(df_processed.columns!=\"price\")&(df_processed.columns!=\"id\")&(df_processed.columns!=\"description\")],df_processed[\"price\"],test_size=0.2,random_state=123)\n",
    "df_train = pd.read_excel(\"train_dummy.xlsx\")\n",
    "df_test = pd.read_excel(\"test_dummy.xlsx\")\n",
    "X_train = df_train.loc[:,(df_train.columns!=\"price\")&(df_train.columns!=\"id\")&(df_train.columns!=\"description\")]\n",
    "y_train = df_train[[\"price\"]]\n",
    "X_test = df_test.loc[:,(df_test.columns!=\"price\")&(df_test.columns!=\"id\")&(df_test.columns!=\"description\")]\n",
    "y_test = df_test[[\"price\"]]\n",
    "del X_train[\"Unnamed: 0\"]\n",
    "del X_test[\"Unnamed: 0\"]"
   ]
  },
  {
   "cell_type": "code",
   "execution_count": 13,
   "metadata": {},
   "outputs": [
    {
     "name": "stdout",
     "output_type": "stream",
     "text": [
      "Epoch 1/20\n",
      "254/254 [==============================] - 2s 3ms/step - loss: 25365.5625 - mean_squared_error: 25365.5625 - val_loss: 13213.8057 - val_mean_squared_error: 13213.8057\n",
      "Epoch 2/20\n",
      "254/254 [==============================] - 1s 2ms/step - loss: 12424.0771 - mean_squared_error: 12424.0771 - val_loss: 11600.6289 - val_mean_squared_error: 11600.6289\n",
      "Epoch 3/20\n",
      "254/254 [==============================] - 1s 3ms/step - loss: 11656.0391 - mean_squared_error: 11656.0391 - val_loss: 11095.7266 - val_mean_squared_error: 11095.7266\n",
      "Epoch 4/20\n",
      "254/254 [==============================] - 1s 2ms/step - loss: 11166.4941 - mean_squared_error: 11166.4941 - val_loss: 11082.5117 - val_mean_squared_error: 11082.5117\n",
      "Epoch 5/20\n",
      "254/254 [==============================] - 1s 2ms/step - loss: 10789.9619 - mean_squared_error: 10789.9619 - val_loss: 10792.3057 - val_mean_squared_error: 10792.3057\n",
      "Epoch 6/20\n",
      "254/254 [==============================] - 1s 3ms/step - loss: 10504.6221 - mean_squared_error: 10504.6221 - val_loss: 11351.0645 - val_mean_squared_error: 11351.0645\n",
      "Epoch 7/20\n",
      "254/254 [==============================] - 1s 3ms/step - loss: 10099.1289 - mean_squared_error: 10099.1289 - val_loss: 10890.4199 - val_mean_squared_error: 10890.4199\n",
      "Epoch 8/20\n",
      "254/254 [==============================] - 1s 3ms/step - loss: 9802.8076 - mean_squared_error: 9802.8076 - val_loss: 10118.3184 - val_mean_squared_error: 10118.3184\n",
      "Epoch 9/20\n",
      "254/254 [==============================] - 1s 3ms/step - loss: 9564.6777 - mean_squared_error: 9564.6777 - val_loss: 10019.6221 - val_mean_squared_error: 10019.6221\n",
      "Epoch 10/20\n",
      "254/254 [==============================] - 1s 3ms/step - loss: 9389.4941 - mean_squared_error: 9389.4941 - val_loss: 10154.1357 - val_mean_squared_error: 10154.1357\n",
      "Epoch 11/20\n",
      "254/254 [==============================] - 1s 3ms/step - loss: 9056.2949 - mean_squared_error: 9056.2949 - val_loss: 10953.8164 - val_mean_squared_error: 10953.8164\n",
      "Epoch 12/20\n",
      "254/254 [==============================] - 1s 4ms/step - loss: 8944.1992 - mean_squared_error: 8944.1992 - val_loss: 9843.1025 - val_mean_squared_error: 9843.1025\n",
      "Epoch 13/20\n",
      "254/254 [==============================] - 1s 3ms/step - loss: 8683.6973 - mean_squared_error: 8683.6973 - val_loss: 9626.2676 - val_mean_squared_error: 9626.2676\n",
      "Epoch 14/20\n",
      "254/254 [==============================] - 1s 3ms/step - loss: 8448.3174 - mean_squared_error: 8448.3174 - val_loss: 11553.8838 - val_mean_squared_error: 11553.8838\n",
      "Epoch 15/20\n",
      "254/254 [==============================] - 1s 3ms/step - loss: 8294.8926 - mean_squared_error: 8294.8926 - val_loss: 9909.0957 - val_mean_squared_error: 9909.0957\n",
      "Epoch 16/20\n",
      "254/254 [==============================] - 1s 3ms/step - loss: 8082.0024 - mean_squared_error: 8082.0024 - val_loss: 11591.1582 - val_mean_squared_error: 11591.1582\n",
      "Epoch 17/20\n",
      "254/254 [==============================] - 1s 3ms/step - loss: 7692.2290 - mean_squared_error: 7692.2290 - val_loss: 9993.9854 - val_mean_squared_error: 9993.9854\n",
      "Epoch 18/20\n",
      "254/254 [==============================] - 1s 3ms/step - loss: 7544.0659 - mean_squared_error: 7544.0659 - val_loss: 9758.0723 - val_mean_squared_error: 9758.0723\n",
      "Epoch 19/20\n",
      "254/254 [==============================] - 1s 3ms/step - loss: 7379.9072 - mean_squared_error: 7379.9072 - val_loss: 10004.3271 - val_mean_squared_error: 10004.3271\n",
      "Epoch 20/20\n",
      "254/254 [==============================] - 1s 3ms/step - loss: 7270.5244 - mean_squared_error: 7270.5244 - val_loss: 10350.7734 - val_mean_squared_error: 10350.7734\n"
     ]
    },
    {
     "data": {
      "text/plain": [
       "<keras.callbacks.History at 0x7fc6d9afcc70>"
      ]
     },
     "execution_count": 13,
     "metadata": {},
     "output_type": "execute_result"
    }
   ],
   "source": [
    "import tensorflow\n",
    "import tensorflow.keras as keras\n",
    "from keras.layers import Dense, Dropout\n",
    "\n",
    "model = keras.Sequential()\n",
    "model.add(Dense(128, input_dim = 57, activation='relu'))\n",
    "model.add(keras.layers.Dropout(0))\n",
    "model.add(Dense(128, input_dim = 57, activation='relu'))\n",
    "model.add(keras.layers.Dropout(0))\n",
    "model.add(Dense(64, input_dim = 57, activation='relu'))\n",
    "model.add(keras.layers.Dropout(0))\n",
    "model.add(Dense(64, input_dim = 57, activation='relu'))\n",
    "model.add(keras.layers.Dropout(0))\n",
    "model.add(Dense(32, activation='relu'))\n",
    "model.add(keras.layers.Dropout(0))\n",
    "model.add(Dense(32, activation='relu'))\n",
    "model.add(keras.layers.Dropout(0))\n",
    "model.add(Dense(16, activation='relu'))\n",
    "model.add(keras.layers.Dropout(0))\n",
    "model.add(Dense(16, activation='relu'))\n",
    "model.add(keras.layers.Dropout(0))\n",
    "model.add(Dense(8, activation='relu'))\n",
    "model.add(keras.layers.Dropout(0))\n",
    "model.add(Dense(4, activation='relu'))\n",
    "model.add(keras.layers.Dropout(0))\n",
    "model.add(Dense(1, activation = 'linear'))\n",
    "model.compile(loss = 'mean_squared_error', optimizer=  'adam', metrics = ['mean_squared_error'])\n",
    "\n",
    "# Fitting the NN to the Training set\n",
    "model.fit(X_train, y_train, epochs = 20, validation_split = 0.3)"
   ]
  },
  {
   "cell_type": "code",
   "execution_count": 14,
   "metadata": {},
   "outputs": [
    {
     "name": "stdout",
     "output_type": "stream",
     "text": [
      "90/90 [==============================] - 0s 1ms/step\n"
     ]
    }
   ],
   "source": [
    "y_pred = list(model.predict(X_test))"
   ]
  },
  {
   "cell_type": "code",
   "execution_count": 15,
   "metadata": {},
   "outputs": [],
   "source": [
    "y_pred_val = []\n",
    "for pred in y_pred:\n",
    "    y_pred_val.append(pred[0])"
   ]
  },
  {
   "cell_type": "code",
   "execution_count": 16,
   "metadata": {},
   "outputs": [],
   "source": [
    "y_mean = sum(y_test['price']) / len(y_test['price'])"
   ]
  },
  {
   "cell_type": "code",
   "execution_count": 17,
   "metadata": {},
   "outputs": [],
   "source": [
    "pred_error = []\n",
    "mean_error = []\n",
    "for i in range(0, len(y_pred_val)):\n",
    "    pred_error.append((list(y_test['price'])[i] - y_pred_val[i]) ** 2)\n",
    "    mean_error.append((list(y_test['price'])[i] - y_mean) ** 2)"
   ]
  },
  {
   "cell_type": "code",
   "execution_count": 18,
   "metadata": {},
   "outputs": [
    {
     "data": {
      "text/plain": [
       "0.6187344503476804"
      ]
     },
     "execution_count": 18,
     "metadata": {},
     "output_type": "execute_result"
    }
   ],
   "source": [
    "rsquared = 1 - sum(pred_error) / sum(mean_error)\n",
    "rsquared"
   ]
  },
  {
   "cell_type": "code",
   "execution_count": 22,
   "metadata": {},
   "outputs": [
    {
     "data": {
      "text/plain": [
       "10495.762568757702"
      ]
     },
     "execution_count": 22,
     "metadata": {},
     "output_type": "execute_result"
    }
   ],
   "source": [
    "from sklearn.metrics import mean_squared_error\n",
    "mean_squared_error(y_pred,y_test)"
   ]
  },
  {
   "cell_type": "code",
   "execution_count": null,
   "metadata": {},
   "outputs": [],
   "source": []
  }
 ],
 "metadata": {
  "kernelspec": {
   "display_name": "base",
   "language": "python",
   "name": "python3"
  },
  "language_info": {
   "codemirror_mode": {
    "name": "ipython",
    "version": 3
   },
   "file_extension": ".py",
   "mimetype": "text/x-python",
   "name": "python",
   "nbconvert_exporter": "python",
   "pygments_lexer": "ipython3",
   "version": "3.8.8"
  },
  "orig_nbformat": 4,
  "vscode": {
   "interpreter": {
    "hash": "40d3a090f54c6569ab1632332b64b2c03c39dcf918b08424e98f38b5ae0af88f"
   }
  }
 },
 "nbformat": 4,
 "nbformat_minor": 2
}
