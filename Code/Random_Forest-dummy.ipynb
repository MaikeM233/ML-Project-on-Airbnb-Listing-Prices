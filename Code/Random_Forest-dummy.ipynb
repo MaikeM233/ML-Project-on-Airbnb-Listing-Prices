{
 "cells": [
  {
   "cell_type": "code",
   "execution_count": 1,
   "id": "85ab5c31",
   "metadata": {},
   "outputs": [],
   "source": [
    "import pandas as pd\n",
    "import numpy as np\n",
    "import sklearn.model_selection as sk_ms\n",
    "import warnings\n",
    "warnings.filterwarnings('ignore')"
   ]
  },
  {
   "cell_type": "code",
   "execution_count": 8,
   "id": "7842f46a",
   "metadata": {},
   "outputs": [],
   "source": [
    "train=pd.read_excel('train_dummy.xlsx')"
   ]
  },
  {
   "cell_type": "code",
   "execution_count": 10,
   "id": "61a8d6b6",
   "metadata": {
    "scrolled": true
   },
   "outputs": [
    {
     "data": {
      "text/html": [
       "<div>\n",
       "<style scoped>\n",
       "    .dataframe tbody tr th:only-of-type {\n",
       "        vertical-align: middle;\n",
       "    }\n",
       "\n",
       "    .dataframe tbody tr th {\n",
       "        vertical-align: top;\n",
       "    }\n",
       "\n",
       "    .dataframe thead th {\n",
       "        text-align: right;\n",
       "    }\n",
       "</style>\n",
       "<table border=\"1\" class=\"dataframe\">\n",
       "  <thead>\n",
       "    <tr style=\"text-align: right;\">\n",
       "      <th></th>\n",
       "      <th>id</th>\n",
       "      <th>description</th>\n",
       "      <th>host_is_superhost</th>\n",
       "      <th>host_has_profile_pic</th>\n",
       "      <th>host_identity_verified</th>\n",
       "      <th>room_type#Entire home/apt</th>\n",
       "      <th>room_type#Hotel room</th>\n",
       "      <th>room_type#Private room</th>\n",
       "      <th>room_type#Shared room</th>\n",
       "      <th>neighbourhood_cleansed#Battery Park City</th>\n",
       "      <th>...</th>\n",
       "      <th>beds</th>\n",
       "      <th>minimum_nights</th>\n",
       "      <th>availability_60</th>\n",
       "      <th>number_of_reviews</th>\n",
       "      <th>last_review</th>\n",
       "      <th>review_scores_rating</th>\n",
       "      <th>calculated_host_listings_count</th>\n",
       "      <th>reviews_per_month</th>\n",
       "      <th>amenities_percent</th>\n",
       "      <th>price</th>\n",
       "    </tr>\n",
       "  </thead>\n",
       "  <tbody>\n",
       "    <tr>\n",
       "      <th>0</th>\n",
       "      <td>44117862</td>\n",
       "      <td>A truly epic loft in the heart of Greenwich vi...</td>\n",
       "      <td>0</td>\n",
       "      <td>1</td>\n",
       "      <td>1</td>\n",
       "      <td>1</td>\n",
       "      <td>0</td>\n",
       "      <td>0</td>\n",
       "      <td>0</td>\n",
       "      <td>0</td>\n",
       "      <td>...</td>\n",
       "      <td>-0.593900</td>\n",
       "      <td>-0.436162</td>\n",
       "      <td>2.207695</td>\n",
       "      <td>-0.430537</td>\n",
       "      <td>-0.714281</td>\n",
       "      <td>0.520142</td>\n",
       "      <td>-0.345682</td>\n",
       "      <td>-0.309587</td>\n",
       "      <td>-0.679270</td>\n",
       "      <td>499.0</td>\n",
       "    </tr>\n",
       "    <tr>\n",
       "      <th>1</th>\n",
       "      <td>659230581060046976</td>\n",
       "      <td>A spacious  unit which sleeps eight people on ...</td>\n",
       "      <td>0</td>\n",
       "      <td>1</td>\n",
       "      <td>1</td>\n",
       "      <td>0</td>\n",
       "      <td>0</td>\n",
       "      <td>1</td>\n",
       "      <td>0</td>\n",
       "      <td>0</td>\n",
       "      <td>...</td>\n",
       "      <td>2.628974</td>\n",
       "      <td>-0.548005</td>\n",
       "      <td>1.102128</td>\n",
       "      <td>-0.413495</td>\n",
       "      <td>-0.790039</td>\n",
       "      <td>0.520142</td>\n",
       "      <td>0.264057</td>\n",
       "      <td>0.203000</td>\n",
       "      <td>0.044344</td>\n",
       "      <td>223.0</td>\n",
       "    </tr>\n",
       "    <tr>\n",
       "      <th>2</th>\n",
       "      <td>32789340</td>\n",
       "      <td>Charming one bedroom apartment in the heart of...</td>\n",
       "      <td>0</td>\n",
       "      <td>1</td>\n",
       "      <td>1</td>\n",
       "      <td>1</td>\n",
       "      <td>0</td>\n",
       "      <td>0</td>\n",
       "      <td>0</td>\n",
       "      <td>0</td>\n",
       "      <td>...</td>\n",
       "      <td>-0.593900</td>\n",
       "      <td>-0.520044</td>\n",
       "      <td>-0.740483</td>\n",
       "      <td>-0.226034</td>\n",
       "      <td>-0.044613</td>\n",
       "      <td>0.409726</td>\n",
       "      <td>-0.345682</td>\n",
       "      <td>-0.277550</td>\n",
       "      <td>0.285549</td>\n",
       "      <td>170.0</td>\n",
       "    </tr>\n",
       "    <tr>\n",
       "      <th>3</th>\n",
       "      <td>48425839</td>\n",
       "      <td>The apartment is located in the charming neigh...</td>\n",
       "      <td>1</td>\n",
       "      <td>1</td>\n",
       "      <td>1</td>\n",
       "      <td>1</td>\n",
       "      <td>0</td>\n",
       "      <td>0</td>\n",
       "      <td>0</td>\n",
       "      <td>0</td>\n",
       "      <td>...</td>\n",
       "      <td>-0.593900</td>\n",
       "      <td>-0.492083</td>\n",
       "      <td>0.049208</td>\n",
       "      <td>0.319305</td>\n",
       "      <td>-0.797900</td>\n",
       "      <td>0.244102</td>\n",
       "      <td>-0.309097</td>\n",
       "      <td>0.743046</td>\n",
       "      <td>0.767958</td>\n",
       "      <td>145.0</td>\n",
       "    </tr>\n",
       "    <tr>\n",
       "      <th>4</th>\n",
       "      <td>654352127095037056</td>\n",
       "      <td>Centrally located on Central Park South this s...</td>\n",
       "      <td>0</td>\n",
       "      <td>1</td>\n",
       "      <td>1</td>\n",
       "      <td>1</td>\n",
       "      <td>0</td>\n",
       "      <td>0</td>\n",
       "      <td>0</td>\n",
       "      <td>0</td>\n",
       "      <td>...</td>\n",
       "      <td>-0.593900</td>\n",
       "      <td>-0.548005</td>\n",
       "      <td>2.155049</td>\n",
       "      <td>-0.396453</td>\n",
       "      <td>-0.794327</td>\n",
       "      <td>0.520142</td>\n",
       "      <td>-0.345682</td>\n",
       "      <td>0.116043</td>\n",
       "      <td>-2.126497</td>\n",
       "      <td>450.0</td>\n",
       "    </tr>\n",
       "    <tr>\n",
       "      <th>...</th>\n",
       "      <td>...</td>\n",
       "      <td>...</td>\n",
       "      <td>...</td>\n",
       "      <td>...</td>\n",
       "      <td>...</td>\n",
       "      <td>...</td>\n",
       "      <td>...</td>\n",
       "      <td>...</td>\n",
       "      <td>...</td>\n",
       "      <td>...</td>\n",
       "      <td>...</td>\n",
       "      <td>...</td>\n",
       "      <td>...</td>\n",
       "      <td>...</td>\n",
       "      <td>...</td>\n",
       "      <td>...</td>\n",
       "      <td>...</td>\n",
       "      <td>...</td>\n",
       "      <td>...</td>\n",
       "      <td>...</td>\n",
       "      <td>...</td>\n",
       "    </tr>\n",
       "    <tr>\n",
       "      <th>11570</th>\n",
       "      <td>51715942</td>\n",
       "      <td>Rare opportunity to rent at a 5th Avenue addre...</td>\n",
       "      <td>0</td>\n",
       "      <td>1</td>\n",
       "      <td>0</td>\n",
       "      <td>1</td>\n",
       "      <td>0</td>\n",
       "      <td>0</td>\n",
       "      <td>0</td>\n",
       "      <td>0</td>\n",
       "      <td>...</td>\n",
       "      <td>-0.593900</td>\n",
       "      <td>-0.520044</td>\n",
       "      <td>0.786252</td>\n",
       "      <td>0.046635</td>\n",
       "      <td>-0.799330</td>\n",
       "      <td>0.188894</td>\n",
       "      <td>-0.345682</td>\n",
       "      <td>0.857463</td>\n",
       "      <td>1.250367</td>\n",
       "      <td>450.0</td>\n",
       "    </tr>\n",
       "    <tr>\n",
       "      <th>11571</th>\n",
       "      <td>144148</td>\n",
       "      <td>Amazing room, with private roof deck. Sits in ...</td>\n",
       "      <td>0</td>\n",
       "      <td>1</td>\n",
       "      <td>1</td>\n",
       "      <td>0</td>\n",
       "      <td>0</td>\n",
       "      <td>1</td>\n",
       "      <td>0</td>\n",
       "      <td>0</td>\n",
       "      <td>...</td>\n",
       "      <td>-0.593900</td>\n",
       "      <td>0.262854</td>\n",
       "      <td>-0.740483</td>\n",
       "      <td>0.097761</td>\n",
       "      <td>0.940235</td>\n",
       "      <td>-0.128551</td>\n",
       "      <td>-0.345682</td>\n",
       "      <td>-0.268397</td>\n",
       "      <td>-1.402883</td>\n",
       "      <td>67.0</td>\n",
       "    </tr>\n",
       "    <tr>\n",
       "      <th>11572</th>\n",
       "      <td>616834723568263936</td>\n",
       "      <td>-Great location -  L/Q/R/N/W/4/5/6/ train line...</td>\n",
       "      <td>0</td>\n",
       "      <td>1</td>\n",
       "      <td>1</td>\n",
       "      <td>1</td>\n",
       "      <td>0</td>\n",
       "      <td>0</td>\n",
       "      <td>0</td>\n",
       "      <td>0</td>\n",
       "      <td>...</td>\n",
       "      <td>0.480392</td>\n",
       "      <td>-0.436162</td>\n",
       "      <td>-0.687837</td>\n",
       "      <td>-0.362369</td>\n",
       "      <td>-0.799330</td>\n",
       "      <td>-0.307976</td>\n",
       "      <td>-0.345682</td>\n",
       "      <td>0.592017</td>\n",
       "      <td>0.044344</td>\n",
       "      <td>205.0</td>\n",
       "    </tr>\n",
       "    <tr>\n",
       "      <th>11573</th>\n",
       "      <td>50210777</td>\n",
       "      <td>Our comfortable, safe, cozy and relaxing 4 Bed...</td>\n",
       "      <td>0</td>\n",
       "      <td>1</td>\n",
       "      <td>1</td>\n",
       "      <td>1</td>\n",
       "      <td>0</td>\n",
       "      <td>0</td>\n",
       "      <td>0</td>\n",
       "      <td>0</td>\n",
       "      <td>...</td>\n",
       "      <td>3.703265</td>\n",
       "      <td>0.262854</td>\n",
       "      <td>2.418279</td>\n",
       "      <td>-0.447578</td>\n",
       "      <td>2.002985</td>\n",
       "      <td>0.257904</td>\n",
       "      <td>-0.345682</td>\n",
       "      <td>-0.419427</td>\n",
       "      <td>1.009162</td>\n",
       "      <td>449.0</td>\n",
       "    </tr>\n",
       "    <tr>\n",
       "      <th>11574</th>\n",
       "      <td>29897911</td>\n",
       "      <td>Hudson River is the perfect place to explore a...</td>\n",
       "      <td>0</td>\n",
       "      <td>1</td>\n",
       "      <td>1</td>\n",
       "      <td>0</td>\n",
       "      <td>0</td>\n",
       "      <td>1</td>\n",
       "      <td>0</td>\n",
       "      <td>0</td>\n",
       "      <td>...</td>\n",
       "      <td>0.480392</td>\n",
       "      <td>0.262854</td>\n",
       "      <td>2.418279</td>\n",
       "      <td>-0.072658</td>\n",
       "      <td>-0.153247</td>\n",
       "      <td>-0.611620</td>\n",
       "      <td>-0.235929</td>\n",
       "      <td>-0.190593</td>\n",
       "      <td>-0.196860</td>\n",
       "      <td>179.0</td>\n",
       "    </tr>\n",
       "  </tbody>\n",
       "</table>\n",
       "<p>11575 rows × 60 columns</p>\n",
       "</div>"
      ],
      "text/plain": [
       "                       id                                        description  \\\n",
       "0                44117862  A truly epic loft in the heart of Greenwich vi...   \n",
       "1      659230581060046976  A spacious  unit which sleeps eight people on ...   \n",
       "2                32789340  Charming one bedroom apartment in the heart of...   \n",
       "3                48425839  The apartment is located in the charming neigh...   \n",
       "4      654352127095037056  Centrally located on Central Park South this s...   \n",
       "...                   ...                                                ...   \n",
       "11570            51715942  Rare opportunity to rent at a 5th Avenue addre...   \n",
       "11571              144148  Amazing room, with private roof deck. Sits in ...   \n",
       "11572  616834723568263936  -Great location -  L/Q/R/N/W/4/5/6/ train line...   \n",
       "11573            50210777  Our comfortable, safe, cozy and relaxing 4 Bed...   \n",
       "11574            29897911  Hudson River is the perfect place to explore a...   \n",
       "\n",
       "       host_is_superhost  host_has_profile_pic  host_identity_verified  \\\n",
       "0                      0                     1                       1   \n",
       "1                      0                     1                       1   \n",
       "2                      0                     1                       1   \n",
       "3                      1                     1                       1   \n",
       "4                      0                     1                       1   \n",
       "...                  ...                   ...                     ...   \n",
       "11570                  0                     1                       0   \n",
       "11571                  0                     1                       1   \n",
       "11572                  0                     1                       1   \n",
       "11573                  0                     1                       1   \n",
       "11574                  0                     1                       1   \n",
       "\n",
       "       room_type#Entire home/apt  room_type#Hotel room  \\\n",
       "0                              1                     0   \n",
       "1                              0                     0   \n",
       "2                              1                     0   \n",
       "3                              1                     0   \n",
       "4                              1                     0   \n",
       "...                          ...                   ...   \n",
       "11570                          1                     0   \n",
       "11571                          0                     0   \n",
       "11572                          1                     0   \n",
       "11573                          1                     0   \n",
       "11574                          0                     0   \n",
       "\n",
       "       room_type#Private room  room_type#Shared room  \\\n",
       "0                           0                      0   \n",
       "1                           1                      0   \n",
       "2                           0                      0   \n",
       "3                           0                      0   \n",
       "4                           0                      0   \n",
       "...                       ...                    ...   \n",
       "11570                       0                      0   \n",
       "11571                       1                      0   \n",
       "11572                       0                      0   \n",
       "11573                       0                      0   \n",
       "11574                       1                      0   \n",
       "\n",
       "       neighbourhood_cleansed#Battery Park City  ...      beds  \\\n",
       "0                                             0  ... -0.593900   \n",
       "1                                             0  ...  2.628974   \n",
       "2                                             0  ... -0.593900   \n",
       "3                                             0  ... -0.593900   \n",
       "4                                             0  ... -0.593900   \n",
       "...                                         ...  ...       ...   \n",
       "11570                                         0  ... -0.593900   \n",
       "11571                                         0  ... -0.593900   \n",
       "11572                                         0  ...  0.480392   \n",
       "11573                                         0  ...  3.703265   \n",
       "11574                                         0  ...  0.480392   \n",
       "\n",
       "       minimum_nights  availability_60  number_of_reviews  last_review  \\\n",
       "0           -0.436162         2.207695          -0.430537    -0.714281   \n",
       "1           -0.548005         1.102128          -0.413495    -0.790039   \n",
       "2           -0.520044        -0.740483          -0.226034    -0.044613   \n",
       "3           -0.492083         0.049208           0.319305    -0.797900   \n",
       "4           -0.548005         2.155049          -0.396453    -0.794327   \n",
       "...               ...              ...                ...          ...   \n",
       "11570       -0.520044         0.786252           0.046635    -0.799330   \n",
       "11571        0.262854        -0.740483           0.097761     0.940235   \n",
       "11572       -0.436162        -0.687837          -0.362369    -0.799330   \n",
       "11573        0.262854         2.418279          -0.447578     2.002985   \n",
       "11574        0.262854         2.418279          -0.072658    -0.153247   \n",
       "\n",
       "       review_scores_rating  calculated_host_listings_count  \\\n",
       "0                  0.520142                       -0.345682   \n",
       "1                  0.520142                        0.264057   \n",
       "2                  0.409726                       -0.345682   \n",
       "3                  0.244102                       -0.309097   \n",
       "4                  0.520142                       -0.345682   \n",
       "...                     ...                             ...   \n",
       "11570              0.188894                       -0.345682   \n",
       "11571             -0.128551                       -0.345682   \n",
       "11572             -0.307976                       -0.345682   \n",
       "11573              0.257904                       -0.345682   \n",
       "11574             -0.611620                       -0.235929   \n",
       "\n",
       "       reviews_per_month  amenities_percent  price  \n",
       "0              -0.309587          -0.679270  499.0  \n",
       "1               0.203000           0.044344  223.0  \n",
       "2              -0.277550           0.285549  170.0  \n",
       "3               0.743046           0.767958  145.0  \n",
       "4               0.116043          -2.126497  450.0  \n",
       "...                  ...                ...    ...  \n",
       "11570           0.857463           1.250367  450.0  \n",
       "11571          -0.268397          -1.402883   67.0  \n",
       "11572           0.592017           0.044344  205.0  \n",
       "11573          -0.419427           1.009162  449.0  \n",
       "11574          -0.190593          -0.196860  179.0  \n",
       "\n",
       "[11575 rows x 60 columns]"
      ]
     },
     "execution_count": 10,
     "metadata": {},
     "output_type": "execute_result"
    }
   ],
   "source": [
    "train=train.iloc[:,1:]\n",
    "train"
   ]
  },
  {
   "cell_type": "code",
   "execution_count": 11,
   "id": "3a30ba2d",
   "metadata": {},
   "outputs": [
    {
     "data": {
      "text/html": [
       "<div>\n",
       "<style scoped>\n",
       "    .dataframe tbody tr th:only-of-type {\n",
       "        vertical-align: middle;\n",
       "    }\n",
       "\n",
       "    .dataframe tbody tr th {\n",
       "        vertical-align: top;\n",
       "    }\n",
       "\n",
       "    .dataframe thead th {\n",
       "        text-align: right;\n",
       "    }\n",
       "</style>\n",
       "<table border=\"1\" class=\"dataframe\">\n",
       "  <thead>\n",
       "    <tr style=\"text-align: right;\">\n",
       "      <th></th>\n",
       "      <th>id</th>\n",
       "      <th>description</th>\n",
       "      <th>host_is_superhost</th>\n",
       "      <th>host_has_profile_pic</th>\n",
       "      <th>host_identity_verified</th>\n",
       "      <th>room_type#Entire home/apt</th>\n",
       "      <th>room_type#Hotel room</th>\n",
       "      <th>room_type#Private room</th>\n",
       "      <th>room_type#Shared room</th>\n",
       "      <th>neighbourhood_cleansed#Battery Park City</th>\n",
       "      <th>...</th>\n",
       "      <th>beds</th>\n",
       "      <th>minimum_nights</th>\n",
       "      <th>availability_60</th>\n",
       "      <th>number_of_reviews</th>\n",
       "      <th>last_review</th>\n",
       "      <th>review_scores_rating</th>\n",
       "      <th>calculated_host_listings_count</th>\n",
       "      <th>reviews_per_month</th>\n",
       "      <th>amenities_percent</th>\n",
       "      <th>price</th>\n",
       "    </tr>\n",
       "  </thead>\n",
       "  <tbody>\n",
       "    <tr>\n",
       "      <th>0</th>\n",
       "      <td>5178</td>\n",
       "      <td>Please don鈥檛 expect the luxury here just a bas...</td>\n",
       "      <td>0</td>\n",
       "      <td>1</td>\n",
       "      <td>0</td>\n",
       "      <td>0</td>\n",
       "      <td>0</td>\n",
       "      <td>1</td>\n",
       "      <td>0</td>\n",
       "      <td>0</td>\n",
       "      <td>...</td>\n",
       "      <td>-0.593900</td>\n",
       "      <td>-0.520044</td>\n",
       "      <td>-0.529899</td>\n",
       "      <td>8.925436</td>\n",
       "      <td>-0.790039</td>\n",
       "      <td>-0.542610</td>\n",
       "      <td>-0.345682</td>\n",
       "      <td>1.132063</td>\n",
       "      <td>0.044344</td>\n",
       "      <td>68</td>\n",
       "    </tr>\n",
       "    <tr>\n",
       "      <th>1</th>\n",
       "      <td>593311739520916992</td>\n",
       "      <td>This cubicle room is just for you and nobody e...</td>\n",
       "      <td>0</td>\n",
       "      <td>1</td>\n",
       "      <td>1</td>\n",
       "      <td>0</td>\n",
       "      <td>0</td>\n",
       "      <td>1</td>\n",
       "      <td>0</td>\n",
       "      <td>0</td>\n",
       "      <td>...</td>\n",
       "      <td>-0.593900</td>\n",
       "      <td>-0.548005</td>\n",
       "      <td>0.944190</td>\n",
       "      <td>-0.021532</td>\n",
       "      <td>-0.794327</td>\n",
       "      <td>-0.363184</td>\n",
       "      <td>-0.089591</td>\n",
       "      <td>1.900943</td>\n",
       "      <td>0.044344</td>\n",
       "      <td>92</td>\n",
       "    </tr>\n",
       "    <tr>\n",
       "      <th>2</th>\n",
       "      <td>47269867</td>\n",
       "      <td>The best Central location. &lt;br /&gt;Union Square ...</td>\n",
       "      <td>0</td>\n",
       "      <td>1</td>\n",
       "      <td>1</td>\n",
       "      <td>1</td>\n",
       "      <td>0</td>\n",
       "      <td>0</td>\n",
       "      <td>0</td>\n",
       "      <td>0</td>\n",
       "      <td>...</td>\n",
       "      <td>-0.593900</td>\n",
       "      <td>-0.380241</td>\n",
       "      <td>1.312712</td>\n",
       "      <td>-0.413495</td>\n",
       "      <td>-0.788609</td>\n",
       "      <td>0.520142</td>\n",
       "      <td>-0.345682</td>\n",
       "      <td>-0.369083</td>\n",
       "      <td>-0.438065</td>\n",
       "      <td>414</td>\n",
       "    </tr>\n",
       "    <tr>\n",
       "      <th>3</th>\n",
       "      <td>4509560</td>\n",
       "      <td>BRAND NEW !!! Fully furnished Studio Apartment...</td>\n",
       "      <td>0</td>\n",
       "      <td>1</td>\n",
       "      <td>1</td>\n",
       "      <td>1</td>\n",
       "      <td>0</td>\n",
       "      <td>0</td>\n",
       "      <td>0</td>\n",
       "      <td>0</td>\n",
       "      <td>...</td>\n",
       "      <td>0.480392</td>\n",
       "      <td>0.262854</td>\n",
       "      <td>-0.740483</td>\n",
       "      <td>-0.140825</td>\n",
       "      <td>-0.659250</td>\n",
       "      <td>-0.376986</td>\n",
       "      <td>-0.089591</td>\n",
       "      <td>-0.327893</td>\n",
       "      <td>1.009162</td>\n",
       "      <td>130</td>\n",
       "    </tr>\n",
       "    <tr>\n",
       "      <th>4</th>\n",
       "      <td>1118031</td>\n",
       "      <td>Private Bedroom for one in the best neighborho...</td>\n",
       "      <td>1</td>\n",
       "      <td>1</td>\n",
       "      <td>0</td>\n",
       "      <td>0</td>\n",
       "      <td>0</td>\n",
       "      <td>1</td>\n",
       "      <td>0</td>\n",
       "      <td>0</td>\n",
       "      <td>...</td>\n",
       "      <td>-0.593900</td>\n",
       "      <td>0.011208</td>\n",
       "      <td>0.680960</td>\n",
       "      <td>0.489723</td>\n",
       "      <td>-0.761451</td>\n",
       "      <td>0.437330</td>\n",
       "      <td>-0.321292</td>\n",
       "      <td>-0.190593</td>\n",
       "      <td>1.009162</td>\n",
       "      <td>136</td>\n",
       "    </tr>\n",
       "    <tr>\n",
       "      <th>...</th>\n",
       "      <td>...</td>\n",
       "      <td>...</td>\n",
       "      <td>...</td>\n",
       "      <td>...</td>\n",
       "      <td>...</td>\n",
       "      <td>...</td>\n",
       "      <td>...</td>\n",
       "      <td>...</td>\n",
       "      <td>...</td>\n",
       "      <td>...</td>\n",
       "      <td>...</td>\n",
       "      <td>...</td>\n",
       "      <td>...</td>\n",
       "      <td>...</td>\n",
       "      <td>...</td>\n",
       "      <td>...</td>\n",
       "      <td>...</td>\n",
       "      <td>...</td>\n",
       "      <td>...</td>\n",
       "      <td>...</td>\n",
       "      <td>...</td>\n",
       "    </tr>\n",
       "    <tr>\n",
       "      <th>2874</th>\n",
       "      <td>51262978</td>\n",
       "      <td>Welcome to my comfortable and well designed 2B...</td>\n",
       "      <td>1</td>\n",
       "      <td>1</td>\n",
       "      <td>1</td>\n",
       "      <td>1</td>\n",
       "      <td>0</td>\n",
       "      <td>0</td>\n",
       "      <td>0</td>\n",
       "      <td>0</td>\n",
       "      <td>...</td>\n",
       "      <td>1.554683</td>\n",
       "      <td>0.262854</td>\n",
       "      <td>-0.687837</td>\n",
       "      <td>-0.277160</td>\n",
       "      <td>-0.784321</td>\n",
       "      <td>0.520142</td>\n",
       "      <td>-0.345682</td>\n",
       "      <td>-0.080753</td>\n",
       "      <td>0.044344</td>\n",
       "      <td>300</td>\n",
       "    </tr>\n",
       "    <tr>\n",
       "      <th>2875</th>\n",
       "      <td>52553162</td>\n",
       "      <td>No human interaction is needed during your sta...</td>\n",
       "      <td>0</td>\n",
       "      <td>1</td>\n",
       "      <td>0</td>\n",
       "      <td>1</td>\n",
       "      <td>0</td>\n",
       "      <td>0</td>\n",
       "      <td>0</td>\n",
       "      <td>0</td>\n",
       "      <td>...</td>\n",
       "      <td>-0.593900</td>\n",
       "      <td>-0.548005</td>\n",
       "      <td>-0.740483</td>\n",
       "      <td>-0.004491</td>\n",
       "      <td>-0.799330</td>\n",
       "      <td>-0.432194</td>\n",
       "      <td>0.178694</td>\n",
       "      <td>0.674396</td>\n",
       "      <td>-0.438065</td>\n",
       "      <td>189</td>\n",
       "    </tr>\n",
       "    <tr>\n",
       "      <th>2876</th>\n",
       "      <td>27788826</td>\n",
       "      <td>Come explore New York City in this delightful ...</td>\n",
       "      <td>0</td>\n",
       "      <td>1</td>\n",
       "      <td>1</td>\n",
       "      <td>1</td>\n",
       "      <td>0</td>\n",
       "      <td>0</td>\n",
       "      <td>0</td>\n",
       "      <td>0</td>\n",
       "      <td>...</td>\n",
       "      <td>-0.593900</td>\n",
       "      <td>0.262854</td>\n",
       "      <td>-0.740483</td>\n",
       "      <td>-0.396453</td>\n",
       "      <td>0.236262</td>\n",
       "      <td>0.520142</td>\n",
       "      <td>-0.345682</td>\n",
       "      <td>-0.391967</td>\n",
       "      <td>-0.438065</td>\n",
       "      <td>123</td>\n",
       "    </tr>\n",
       "    <tr>\n",
       "      <th>2877</th>\n",
       "      <td>18227529</td>\n",
       "      <td>Art Deco 1 Bed morning in Morningside Hts, nea...</td>\n",
       "      <td>0</td>\n",
       "      <td>1</td>\n",
       "      <td>1</td>\n",
       "      <td>1</td>\n",
       "      <td>0</td>\n",
       "      <td>0</td>\n",
       "      <td>0</td>\n",
       "      <td>0</td>\n",
       "      <td>...</td>\n",
       "      <td>1.554683</td>\n",
       "      <td>-0.520044</td>\n",
       "      <td>-0.740483</td>\n",
       "      <td>1.086187</td>\n",
       "      <td>-0.028890</td>\n",
       "      <td>0.354518</td>\n",
       "      <td>-0.333487</td>\n",
       "      <td>0.221307</td>\n",
       "      <td>1.009162</td>\n",
       "      <td>146</td>\n",
       "    </tr>\n",
       "    <tr>\n",
       "      <th>2878</th>\n",
       "      <td>51840664</td>\n",
       "      <td>Twin bed studio , private bathroom , cable tv,...</td>\n",
       "      <td>0</td>\n",
       "      <td>1</td>\n",
       "      <td>1</td>\n",
       "      <td>1</td>\n",
       "      <td>0</td>\n",
       "      <td>0</td>\n",
       "      <td>0</td>\n",
       "      <td>0</td>\n",
       "      <td>...</td>\n",
       "      <td>-0.593900</td>\n",
       "      <td>0.262854</td>\n",
       "      <td>0.996836</td>\n",
       "      <td>-0.413495</td>\n",
       "      <td>-0.635665</td>\n",
       "      <td>-0.169957</td>\n",
       "      <td>0.227473</td>\n",
       "      <td>-0.332470</td>\n",
       "      <td>-1.402883</td>\n",
       "      <td>75</td>\n",
       "    </tr>\n",
       "  </tbody>\n",
       "</table>\n",
       "<p>2879 rows × 60 columns</p>\n",
       "</div>"
      ],
      "text/plain": [
       "                      id                                        description  \\\n",
       "0                   5178  Please don鈥檛 expect the luxury here just a bas...   \n",
       "1     593311739520916992  This cubicle room is just for you and nobody e...   \n",
       "2               47269867  The best Central location. <br />Union Square ...   \n",
       "3                4509560  BRAND NEW !!! Fully furnished Studio Apartment...   \n",
       "4                1118031  Private Bedroom for one in the best neighborho...   \n",
       "...                  ...                                                ...   \n",
       "2874            51262978  Welcome to my comfortable and well designed 2B...   \n",
       "2875            52553162  No human interaction is needed during your sta...   \n",
       "2876            27788826  Come explore New York City in this delightful ...   \n",
       "2877            18227529  Art Deco 1 Bed morning in Morningside Hts, nea...   \n",
       "2878            51840664  Twin bed studio , private bathroom , cable tv,...   \n",
       "\n",
       "      host_is_superhost  host_has_profile_pic  host_identity_verified  \\\n",
       "0                     0                     1                       0   \n",
       "1                     0                     1                       1   \n",
       "2                     0                     1                       1   \n",
       "3                     0                     1                       1   \n",
       "4                     1                     1                       0   \n",
       "...                 ...                   ...                     ...   \n",
       "2874                  1                     1                       1   \n",
       "2875                  0                     1                       0   \n",
       "2876                  0                     1                       1   \n",
       "2877                  0                     1                       1   \n",
       "2878                  0                     1                       1   \n",
       "\n",
       "      room_type#Entire home/apt  room_type#Hotel room  room_type#Private room  \\\n",
       "0                             0                     0                       1   \n",
       "1                             0                     0                       1   \n",
       "2                             1                     0                       0   \n",
       "3                             1                     0                       0   \n",
       "4                             0                     0                       1   \n",
       "...                         ...                   ...                     ...   \n",
       "2874                          1                     0                       0   \n",
       "2875                          1                     0                       0   \n",
       "2876                          1                     0                       0   \n",
       "2877                          1                     0                       0   \n",
       "2878                          1                     0                       0   \n",
       "\n",
       "      room_type#Shared room  neighbourhood_cleansed#Battery Park City  ...  \\\n",
       "0                         0                                         0  ...   \n",
       "1                         0                                         0  ...   \n",
       "2                         0                                         0  ...   \n",
       "3                         0                                         0  ...   \n",
       "4                         0                                         0  ...   \n",
       "...                     ...                                       ...  ...   \n",
       "2874                      0                                         0  ...   \n",
       "2875                      0                                         0  ...   \n",
       "2876                      0                                         0  ...   \n",
       "2877                      0                                         0  ...   \n",
       "2878                      0                                         0  ...   \n",
       "\n",
       "          beds  minimum_nights  availability_60  number_of_reviews  \\\n",
       "0    -0.593900       -0.520044        -0.529899           8.925436   \n",
       "1    -0.593900       -0.548005         0.944190          -0.021532   \n",
       "2    -0.593900       -0.380241         1.312712          -0.413495   \n",
       "3     0.480392        0.262854        -0.740483          -0.140825   \n",
       "4    -0.593900        0.011208         0.680960           0.489723   \n",
       "...        ...             ...              ...                ...   \n",
       "2874  1.554683        0.262854        -0.687837          -0.277160   \n",
       "2875 -0.593900       -0.548005        -0.740483          -0.004491   \n",
       "2876 -0.593900        0.262854        -0.740483          -0.396453   \n",
       "2877  1.554683       -0.520044        -0.740483           1.086187   \n",
       "2878 -0.593900        0.262854         0.996836          -0.413495   \n",
       "\n",
       "      last_review  review_scores_rating  calculated_host_listings_count  \\\n",
       "0       -0.790039             -0.542610                       -0.345682   \n",
       "1       -0.794327             -0.363184                       -0.089591   \n",
       "2       -0.788609              0.520142                       -0.345682   \n",
       "3       -0.659250             -0.376986                       -0.089591   \n",
       "4       -0.761451              0.437330                       -0.321292   \n",
       "...           ...                   ...                             ...   \n",
       "2874    -0.784321              0.520142                       -0.345682   \n",
       "2875    -0.799330             -0.432194                        0.178694   \n",
       "2876     0.236262              0.520142                       -0.345682   \n",
       "2877    -0.028890              0.354518                       -0.333487   \n",
       "2878    -0.635665             -0.169957                        0.227473   \n",
       "\n",
       "      reviews_per_month  amenities_percent  price  \n",
       "0              1.132063           0.044344     68  \n",
       "1              1.900943           0.044344     92  \n",
       "2             -0.369083          -0.438065    414  \n",
       "3             -0.327893           1.009162    130  \n",
       "4             -0.190593           1.009162    136  \n",
       "...                 ...                ...    ...  \n",
       "2874          -0.080753           0.044344    300  \n",
       "2875           0.674396          -0.438065    189  \n",
       "2876          -0.391967          -0.438065    123  \n",
       "2877           0.221307           1.009162    146  \n",
       "2878          -0.332470          -1.402883     75  \n",
       "\n",
       "[2879 rows x 60 columns]"
      ]
     },
     "execution_count": 11,
     "metadata": {},
     "output_type": "execute_result"
    }
   ],
   "source": [
    "test=pd.read_excel('test_dummy.xlsx')\n",
    "test=test.iloc[:,1:]\n",
    "test"
   ]
  },
  {
   "cell_type": "code",
   "execution_count": 14,
   "id": "130f17e9",
   "metadata": {},
   "outputs": [],
   "source": [
    "col=train.columns.values.tolist()\n",
    "col.remove('price') \n",
    "x_train = train[col]\n",
    "y_train = train[['price']]\n",
    "x_test = test[col]\n",
    "y_test = test[['price']]"
   ]
  },
  {
   "cell_type": "code",
   "execution_count": 16,
   "id": "e453595d",
   "metadata": {},
   "outputs": [],
   "source": [
    "for i in ['id','description']:\n",
    "    del x_train[i]\n",
    "    del x_test[i]"
   ]
  },
  {
   "cell_type": "code",
   "execution_count": null,
   "id": "ce7fee78",
   "metadata": {},
   "outputs": [],
   "source": []
  },
  {
   "cell_type": "markdown",
   "id": "2c9f313d",
   "metadata": {},
   "source": [
    "## 1. Without PCA"
   ]
  },
  {
   "cell_type": "code",
   "execution_count": 18,
   "id": "3d76ebb0",
   "metadata": {},
   "outputs": [],
   "source": [
    "from sklearn.ensemble import RandomForestRegressor"
   ]
  },
  {
   "cell_type": "code",
   "execution_count": 19,
   "id": "09ba2d23",
   "metadata": {},
   "outputs": [
    {
     "data": {
      "text/plain": [
       "RandomForestRegressor()"
      ]
     },
     "execution_count": 19,
     "metadata": {},
     "output_type": "execute_result"
    }
   ],
   "source": [
    "from sklearn.preprocessing import StandardScaler\n",
    "from sklearn.pipeline import Pipeline\n",
    "from sklearn.decomposition import PCA\n",
    "model1 = RandomForestRegressor()\n",
    "# regr = RandomForestRegressor(random_state=100,\n",
    "#                              bootstrap=True,\n",
    "#                              max_depth=2,\n",
    "#                              max_features=2,\n",
    "#                              min_samples_leaf=3,\n",
    "#                              min_samples_split=5,\n",
    "#                              n_estimators=3)\n",
    "model1.fit(x_train, y_train)"
   ]
  },
  {
   "cell_type": "code",
   "execution_count": 20,
   "id": "8e9e906d",
   "metadata": {},
   "outputs": [
    {
     "data": {
      "text/plain": [
       "100"
      ]
     },
     "execution_count": 20,
     "metadata": {},
     "output_type": "execute_result"
    }
   ],
   "source": [
    "model1.n_estimators"
   ]
  },
  {
   "cell_type": "code",
   "execution_count": 21,
   "id": "21fbe99c",
   "metadata": {
    "scrolled": true
   },
   "outputs": [
    {
     "name": "stdout",
     "output_type": "stream",
     "text": [
      "Training R-Square 0.9493665115742432\n",
      "Testing R-Square 0.6650604678266688\n"
     ]
    }
   ],
   "source": [
    "print(\"Training R-Square\",model1.score(x_train,y_train))\n",
    "print(\"Testing R-Square\",model1.score(x_test,y_test))"
   ]
  },
  {
   "cell_type": "markdown",
   "id": "2addf04c",
   "metadata": {},
   "source": [
    "### （1)Feature importance"
   ]
  },
  {
   "cell_type": "code",
   "execution_count": 22,
   "id": "f7df5447",
   "metadata": {
    "scrolled": true
   },
   "outputs": [
    {
     "data": {
      "text/plain": [
       "Text(0.5, 0, 'Relative Importance')"
      ]
     },
     "execution_count": 22,
     "metadata": {},
     "output_type": "execute_result"
    },
    {
     "data": {
      "image/png": "[encoded data removed]",
      "text/plain": [
       "<Figure size 864x864 with 1 Axes>"
      ]
     },
     "metadata": {
      "needs_background": "light"
     },
     "output_type": "display_data"
    }
   ],
   "source": [
    "import matplotlib.pyplot as plt\n",
    "%matplotlib inline\n",
    "importances = model1.feature_importances_\n",
    "feature_names=list(x_train.columns)\n",
    "indices = np.argsort(importances)\n",
    "plt.figure(figsize=(12,12))\n",
    "plt.title('Feature Importances')\n",
    "plt.barh(range(len(indices)), importances[indices], color='b', align='center')\n",
    "# plt.yticks(range(len(indices)),feature_names)\n",
    "plt.yticks(range(len(indices)),np.array(feature_names)[indices])\n",
    "plt.xlabel('Relative Importance')"
   ]
  },
  {
   "cell_type": "markdown",
   "id": "5fbea1f6",
   "metadata": {},
   "source": [
    "## with PCA"
   ]
  },
  {
   "cell_type": "code",
   "execution_count": 66,
   "id": "dfa8ee56",
   "metadata": {},
   "outputs": [
    {
     "data": {
      "text/plain": [
       "array([1.78559788e-01, 1.41987918e-01, 1.25594588e-01, 7.50356984e-02,\n",
       "       6.17242170e-02, 5.75805200e-02, 5.22218663e-02, 4.85049661e-02,\n",
       "       4.39603469e-02, 3.43670522e-02, 3.07798011e-02, 2.22284774e-02,\n",
       "       1.92959657e-02, 1.58146425e-02, 1.19958752e-02, 9.90599447e-03,\n",
       "       6.80590371e-03, 5.96164742e-03, 5.51465331e-03, 5.28721433e-03,\n",
       "       5.20485439e-03, 4.74477194e-03, 4.34317792e-03, 3.83617360e-03,\n",
       "       3.28033543e-03, 2.88065545e-03, 2.54905260e-03, 2.20119127e-03,\n",
       "       1.88453493e-03, 1.72199659e-03, 1.44665624e-03, 1.34622281e-03,\n",
       "       1.24060233e-03, 1.06588211e-03, 8.99202448e-04, 7.90260116e-04,\n",
       "       7.71412998e-04, 7.42178043e-04, 6.81168692e-04, 6.47003843e-04,\n",
       "       6.40633435e-04, 5.96058203e-04, 5.83080386e-04, 4.92758644e-04,\n",
       "       4.25966687e-04, 3.24911438e-04, 3.03114650e-04, 2.62322724e-04,\n",
       "       2.46318034e-04, 1.70626689e-04, 1.61046059e-04, 1.44810588e-04,\n",
       "       1.33788591e-04, 8.49979986e-05, 2.50954616e-05, 1.13553446e-29,\n",
       "       6.65171366e-31])"
      ]
     },
     "execution_count": 66,
     "metadata": {},
     "output_type": "execute_result"
    }
   ],
   "source": [
    "\n",
    "from sklearn.preprocessing import StandardScaler\n",
    "from sklearn.decomposition import PCA\n",
    "\n",
    "data=x_train\n",
    "pca = PCA(n_components=data.shape[1])\n",
    "principalComponents = pca.fit_transform(data)\n",
    "pca.explained_variance_ratio_"
   ]
  },
  {
   "cell_type": "code",
   "execution_count": 44,
   "id": "ab8d0b1e",
   "metadata": {
    "scrolled": true
   },
   "outputs": [
    {
     "data": {
      "image/png": "[encoded data removed]",
      "text/plain": [
       "<Figure size 432x288 with 1 Axes>"
      ]
     },
     "metadata": {
      "needs_background": "light"
     },
     "output_type": "display_data"
    }
   ],
   "source": [
    "import matplotlib.pyplot as plt\n",
    "importance = pca.explained_variance_ratio_\n",
    "plt.scatter(range(len(x_train.columns)),importance)\n",
    "plt.plot(range(len(x_train.columns)),importance)\n",
    "plt.title('Scree Plot')\n",
    "plt.xlabel('Factors')\n",
    "plt.ylabel('Eigenvalue')\n",
    "plt.grid()\n",
    "plt.show()"
   ]
  },
  {
   "cell_type": "code",
   "execution_count": 69,
   "id": "a8c11418",
   "metadata": {},
   "outputs": [
    {
     "data": {
      "text/plain": [
       "0.9531271366672408"
      ]
     },
     "execution_count": 69,
     "metadata": {},
     "output_type": "execute_result"
    }
   ],
   "source": [
    "sum(pca.explained_variance_ratio_[:20])"
   ]
  },
  {
   "cell_type": "code",
   "execution_count": 54,
   "id": "3a241304",
   "metadata": {},
   "outputs": [],
   "source": [
    "pca = PCA(20).fit(x_train)\n",
    "def preprocessor(data):\n",
    "    preprocessed_data=data\n",
    "    principalComponents = pca.transform(preprocessed_data)\n",
    "    preprocessed_data = pd.DataFrame(data=principalComponents)\n",
    "    return preprocessed_data"
   ]
  },
  {
   "cell_type": "code",
   "execution_count": 55,
   "id": "dfa8cbb9",
   "metadata": {},
   "outputs": [
    {
     "data": {
      "text/plain": [
       "RandomForestRegressor()"
      ]
     },
     "execution_count": 55,
     "metadata": {},
     "output_type": "execute_result"
    }
   ],
   "source": [
    "from sklearn.preprocessing import StandardScaler\n",
    "from sklearn.pipeline import Pipeline\n",
    "from sklearn.decomposition import PCA\n",
    "model2 = RandomForestRegressor()\n",
    "model2.fit(preprocessor(x_train), y_train)"
   ]
  },
  {
   "cell_type": "code",
   "execution_count": 56,
   "id": "1ba4d44c",
   "metadata": {},
   "outputs": [
    {
     "name": "stdout",
     "output_type": "stream",
     "text": [
      "Training R-Square 0.9391577359378279\n",
      "Testing R-Square 0.5731619675586734\n"
     ]
    }
   ],
   "source": [
    "print(\"Training R-Square\",model2.score(preprocessor(x_train),y_train))\n",
    "print(\"Testing R-Square\",model2.score(preprocessor(x_test),y_test))"
   ]
  },
  {
   "cell_type": "markdown",
   "id": "ceecba43",
   "metadata": {},
   "source": [
    "## So we decide to train the model without PCA"
   ]
  },
  {
   "cell_type": "code",
   "execution_count": null,
   "id": "202108eb",
   "metadata": {},
   "outputs": [],
   "source": []
  },
  {
   "cell_type": "code",
   "execution_count": 23,
   "id": "1a0624da",
   "metadata": {},
   "outputs": [],
   "source": [
    "from sklearn.model_selection import GridSearchCV\n",
    "import numpy as np\n",
    "\n",
    "\n",
    "n_estimators_range=[int(x) for x in np.linspace(start=100,stop=500,num=5)]\n",
    "max_depth_range=[int(x) for x in np.linspace(20,100,num=5)]\n",
    "min_samples_split_range=[1,2,4]\n",
    "# min_samples_leaf_range=[1,2,4]\n",
    "# # bootstrap_range=[True,False]\n",
    "\n",
    "random_forest_hp_range={'n_estimators':n_estimators_range ,\n",
    "                        'max_depth':max_depth_range,\n",
    "                        'min_samples_split':min_samples_split_range\n",
    "#                         'min_samples_leaf':min_samples_leaf_range \n",
    "                       # 'bootstrap':bootstrap_range\n",
    "                        }\n",
    "gridmodel = GridSearchCV(RandomForestRegressor(), param_grid=random_forest_hp_range, cv=5)"
   ]
  },
  {
   "cell_type": "code",
   "execution_count": 24,
   "id": "ccfbb97b",
   "metadata": {},
   "outputs": [
    {
     "data": {
      "text/plain": [
       "GridSearchCV(cv=5, estimator=RandomForestRegressor(),\n",
       "             param_grid={'max_depth': [20, 40, 60, 80, 100],\n",
       "                         'min_samples_split': [1, 2, 4],\n",
       "                         'n_estimators': [100, 200, 300, 400, 500]})"
      ]
     },
     "execution_count": 24,
     "metadata": {},
     "output_type": "execute_result"
    }
   ],
   "source": [
    "gridmodel.fit(x_train, y_train)"
   ]
  },
  {
   "cell_type": "code",
   "execution_count": 25,
   "id": "e635262a",
   "metadata": {},
   "outputs": [
    {
     "name": "stdout",
     "output_type": "stream",
     "text": [
      "best mean cross-validation score: 0.653\n",
      "best parameters: {'max_depth': 100, 'min_samples_split': 2, 'n_estimators': 400}\n"
     ]
    }
   ],
   "source": [
    "print(\"best mean cross-validation score: {:.3f}\".format(gridmodel.best_score_))\n",
    "print(\"best parameters: {}\".format(gridmodel.best_params_))"
   ]
  },
  {
   "cell_type": "code",
   "execution_count": 28,
   "id": "203660a0",
   "metadata": {},
   "outputs": [
    {
     "data": {
      "text/plain": [
       "RandomForestRegressor(max_depth=100, n_estimators=400)"
      ]
     },
     "execution_count": 28,
     "metadata": {},
     "output_type": "execute_result"
    }
   ],
   "source": [
    "model1 = RandomForestRegressor(n_estimators=400,\n",
    "                              max_depth=100,\n",
    "                              min_samples_split=2)\n",
    "model1.fit(x_train, y_train)"
   ]
  },
  {
   "cell_type": "code",
   "execution_count": 71,
   "id": "e75813e0",
   "metadata": {},
   "outputs": [
    {
     "name": "stdout",
     "output_type": "stream",
     "text": [
      "Training R-Square 0.9514947647066315\n",
      "Testing R-Square 0.667814286352943\n"
     ]
    }
   ],
   "source": [
    "print(\"Training R-Square\",model1.score(x_train,y_train))\n",
    "print(\"Testing R-Square\",model1.score(x_test,y_test))"
   ]
  },
  {
   "cell_type": "code",
   "execution_count": 30,
   "id": "8858eb1b",
   "metadata": {},
   "outputs": [
    {
     "data": {
      "text/plain": [
       "<matplotlib.collections.PathCollection at 0x2b6ffd41970>"
      ]
     },
     "execution_count": 30,
     "metadata": {},
     "output_type": "execute_result"
    },
    {
     "data": {
      "image/png": "[encoded data removed]",
      "text/plain": [
       "<Figure size 432x288 with 1 Axes>"
      ]
     },
     "metadata": {
      "needs_background": "light"
     },
     "output_type": "display_data"
    }
   ],
   "source": [
    "predict_list=model1.predict(x_test)\n",
    "plt.scatter(predict_list,test['price'])"
   ]
  },
  {
   "cell_type": "code",
   "execution_count": 32,
   "id": "b467a8db",
   "metadata": {},
   "outputs": [],
   "source": [
    "test['predict']=predict_list\n",
    "test['price_diff']=test['predict']-test['price']"
   ]
  },
  {
   "cell_type": "code",
   "execution_count": 39,
   "id": "5098425f",
   "metadata": {},
   "outputs": [
    {
     "data": {
      "text/plain": [
       "count    2879.000000\n",
       "mean        0.501728\n",
       "std        95.642992\n",
       "min      -724.458750\n",
       "10%       -94.204000\n",
       "20%       -33.896500\n",
       "30%       -13.389000\n",
       "40%        -1.105000\n",
       "50%         8.320000\n",
       "60%        20.287000\n",
       "70%        33.107000\n",
       "80%        51.727833\n",
       "90%        84.553760\n",
       "max       463.765000\n",
       "Name: price_diff, dtype: float64"
      ]
     },
     "execution_count": 39,
     "metadata": {},
     "output_type": "execute_result"
    }
   ],
   "source": [
    "test['price_diff'].describe(percentiles=[0.1,0.2,0.3,0.4,0.5,0.6,0.7,0.8,0.9])"
   ]
  },
  {
   "cell_type": "code",
   "execution_count": 63,
   "id": "3a9d26b6",
   "metadata": {},
   "outputs": [
    {
     "data": {
      "text/plain": [
       "<AxesSubplot:xlabel='price_diff', ylabel='Density'>"
      ]
     },
     "execution_count": 63,
     "metadata": {},
     "output_type": "execute_result"
    },
    {
     "data": {
      "image/png": "[encoded data removed]",
      "text/plain": [
       "<Figure size 576x396 with 1 Axes>"
      ]
     },
     "metadata": {},
     "output_type": "display_data"
    }
   ],
   "source": [
    "%matplotlib inline\n",
    "import matplotlib.pyplot as plt\n",
    "import seaborn as sns\n",
    "plt.style.use('seaborn')\n",
    "from scipy import stats\n",
    "sns.distplot(test['price_diff'],kde=True)"
   ]
  },
  {
   "cell_type": "code",
   "execution_count": 40,
   "id": "f061add9",
   "metadata": {},
   "outputs": [],
   "source": [
    "df_text_mining=test[['id','description','price','predict','price_diff']]"
   ]
  },
  {
   "cell_type": "code",
   "execution_count": 42,
   "id": "00ce29ff",
   "metadata": {},
   "outputs": [],
   "source": [
    "df_text_mining.to_csv('test_tree_dummy.csv')"
   ]
  }
 ],
 "metadata": {
  "kernelspec": {
   "display_name": "Python 3 (ipykernel)",
   "language": "python",
   "name": "python3"
  },
  "language_info": {
   "codemirror_mode": {
    "name": "ipython",
    "version": 3
   },
   "file_extension": ".py",
   "mimetype": "text/x-python",
   "name": "python",
   "nbconvert_exporter": "python",
   "pygments_lexer": "ipython3",
   "version": "3.9.12"
  }
 },
 "nbformat": 4,
 "nbformat_minor": 5
}
